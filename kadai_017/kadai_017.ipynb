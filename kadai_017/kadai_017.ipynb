{
  "nbformat": 4,
  "nbformat_minor": 0,
  "metadata": {
    "colab": {
      "provenance": []
    },
    "kernelspec": {
      "name": "python3",
      "display_name": "Python 3"
    },
    "language_info": {
      "name": "python"
    }
  },
  "cells": [
    {
      "cell_type": "code",
      "source": [
        "Human_arrays = {\"侍太郎\": 20, \"侍花子\":17, \"侍一郎\":35, \"侍哲夫\":19, \"侍六郎\":45, \"侍龍之介\":42}\n",
        "\n",
        "class Human:\n",
        "  def __init__(self, name, age):\n",
        "    self.name = name\n",
        "    self.age = age\n",
        "  def check_adult(self):\n",
        "        if self.age >= 20:\n",
        "          print(\"大人です。\")\n",
        "        else:\n",
        "          print(\"大人ではありません。\")\n",
        "\n",
        "for Human_array in Human_arrays:\n",
        "  human = Human(Human_array, Human_arrays[Human_array])\n",
        "  print(human.name+\"は\")\n",
        "  human.check_adult()"
      ],
      "metadata": {
        "colab": {
          "base_uri": "https://localhost:8080/"
        },
        "id": "RgftkLTWYvFX",
        "outputId": "4273e799-90f2-4ad2-81bc-000a5ba042c6"
      },
      "execution_count": 9,
      "outputs": [
        {
          "output_type": "stream",
          "name": "stdout",
          "text": [
            "侍太郎は\n",
            "大人です。\n",
            "侍花子は\n",
            "大人ではありません。\n",
            "侍一郎は\n",
            "大人です。\n",
            "侍哲夫は\n",
            "大人ではありません。\n",
            "侍六郎は\n",
            "大人です。\n",
            "侍龍之介は\n",
            "大人です。\n"
          ]
        }
      ]
    }
  ]
}