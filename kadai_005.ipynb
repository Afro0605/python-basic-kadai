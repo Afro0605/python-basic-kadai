{
  "nbformat": 4,
  "nbformat_minor": 0,
  "metadata": {
    "colab": {
      "provenance": []
    },
    "kernelspec": {
      "name": "python3",
      "display_name": "Python 3"
    },
    "language_info": {
      "name": "python"
    }
  },
  "cells": [
    {
      "cell_type": "code",
      "source": [
        "Johen = 10\n",
        "Kahen = 20\n",
        "Takasa = 5\n",
        "Menseki = (Johen + Kahen) * Takasa / 2\n",
        "print(str(Menseki) + \"cm2\")"
      ],
      "metadata": {
        "colab": {
          "base_uri": "https://localhost:8080/"
        },
        "id": "xfDmwsWO1HRO",
        "outputId": "2f296ae9-6ef2-41a1-cdfe-a7d070bc343e"
      },
      "execution_count": 21,
      "outputs": [
        {
          "output_type": "stream",
          "name": "stdout",
          "text": [
            "75.0cm2\n"
          ]
        }
      ]
    }
  ]
}