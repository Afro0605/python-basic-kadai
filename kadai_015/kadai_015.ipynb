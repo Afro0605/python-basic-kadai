{
  "nbformat": 4,
  "nbformat_minor": 0,
  "metadata": {
    "colab": {
      "provenance": []
    },
    "kernelspec": {
      "name": "python3",
      "display_name": "Python 3"
    },
    "language_info": {
      "name": "python"
    }
  },
  "cells": [
    {
      "cell_type": "code",
      "execution_count": 1,
      "metadata": {
        "colab": {
          "base_uri": "https://localhost:8080/"
        },
        "id": "HnQjSqwbNK2_",
        "outputId": "33a7b6b2-1746-4c06-92a8-0acb39cd32e0"
      },
      "outputs": [
        {
          "output_type": "stream",
          "name": "stdout",
          "text": [
            "侍太郎\n",
            "32\n"
          ]
        }
      ],
      "source": [
        "class Human:\n",
        "  def __init__(self, name, age):\n",
        "    self.name = name\n",
        "    self.age = age\n",
        "  def printinfo(self):\n",
        "     print(self.name)\n",
        "     print(self.age)\n",
        "\n",
        "human = Human(\"侍太郎\", 32)\n",
        "\n",
        "human.printinfo()"
      ]
    }
  ]
}