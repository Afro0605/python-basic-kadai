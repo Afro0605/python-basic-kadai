{
  "nbformat": 4,
  "nbformat_minor": 0,
  "metadata": {
    "colab": {
      "provenance": []
    },
    "kernelspec": {
      "name": "python3",
      "display_name": "Python 3"
    },
    "language_info": {
      "name": "python"
    }
  },
  "cells": [
    {
      "cell_type": "code",
      "execution_count": 2,
      "metadata": {
        "colab": {
          "base_uri": "https://localhost:8080/"
        },
        "id": "HnQjSqwbNK2_",
        "outputId": "938c406e-f64f-4ea7-b46c-f75f3ce6a88c"
      },
      "outputs": [
        {
          "output_type": "stream",
          "name": "stdout",
          "text": [
            "121.0円\n"
          ]
        }
      ],
      "source": [
        "def add_tax(price, tax):\n",
        "  return price + price * tax/100\n",
        "\n",
        "print(f\"{add_tax(110,10)}円\")"
      ]
    }
  ]
}