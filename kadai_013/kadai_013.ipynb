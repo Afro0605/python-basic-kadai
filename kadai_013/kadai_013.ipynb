{
  "nbformat": 4,
  "nbformat_minor": 0,
  "metadata": {
    "colab": {
      "provenance": []
    },
    "kernelspec": {
      "name": "python3",
      "display_name": "Python 3"
    },
    "language_info": {
      "name": "python"
    }
  },
  "cells": [
    {
      "cell_type": "code",
      "execution_count": 1,
      "metadata": {
        "colab": {
          "base_uri": "https://localhost:8080/"
        },
        "id": "HnQjSqwbNK2_",
        "outputId": "804fe14a-ba80-4337-f17b-3722ca13f9cb"
      },
      "outputs": [
        {
          "output_type": "stream",
          "name": "stdout",
          "text": [
            "120円\n"
          ]
        }
      ],
      "source": [
        "def add_tax(price,tax):\n",
        "  total = price + tax\n",
        "  print(f\"{total}円\")\n",
        "\n",
        "add_tax(110, 10)"
      ]
    }
  ]
}